{
 "cells": [
  {
   "cell_type": "code",
   "execution_count": 1,
   "metadata": {},
   "outputs": [],
   "source": [
    "import io\n",
    "import os\n",
    "from os import path\n",
    "from os import listdir\n",
    "from os.path import isfile, join\n",
    "import time\n",
    "\n",
    "import pandas as pd\n",
    "import requests\n",
    "import zipfile\n",
    "\n",
    "low_memory=False\n",
    "\n",
    "DATA_PATH = \"../data/\"\n",
    "CENSUS_DATA_PATH = \"../data/census/\"\n",
    "DB_COUNTY_PATH = \"../data/hmda_county_data/\"\n",
    "DB_STATE_PATH = \"../data/hmda_state_data/\"\n",
    "\n",
    "if not os.path.exists(DB_COUNTY_PATH):\n",
    "    os.makedirs(DB_COUNTY_PATH)\n",
    "if not os.path.exists(DB_STATE_PATH):\n",
    "    os.makedirs(DB_STATE_PATH)\n",
    "    \n",
    "state_codes_rev = {\n",
    "  '01':'AL', '02':'AK', '04':'AZ', '05':'AR', '06':'CA', '08':'CO', '09':'CT', \n",
    "  '10':'DE', '11':'DC', '12':'FL', '13':'GA', '15':'HI', '16':'ID', '17':'IL',\n",
    "  '18':'IN', '19':'IA', '20':'KS', '21':'KY', '22':'LA', '23':'ME', '24':'MD', \n",
    "  '25':'MA', '26':'MI', '27':'MN', '28':'MS', '29':'MO', '30':'MT', '31':'NE',\n",
    "  '32':'NV', '33':'NH', '34':'NJ', '35':'NM', '36':'NY', '37':'NC', '38':'ND',\n",
    "  '39':'OH', '40':'OK', '41':'OR', '42':'PA', '44':'RI', '45':'SC', '46':'SD',\n",
    "  '47':'TN', '48':'TX', '49':'UT', '50':'VT', '51':'VA', '53':'WA', '54':'WV',\n",
    "  '55':'WI', '56':'WY', '60':'AS', '72':'PR', '78':'VI', '66':'GU', '69':'MP'\n",
    "}"
   ]
  },
  {
   "cell_type": "code",
   "execution_count": 2,
   "metadata": {},
   "outputs": [],
   "source": [
    "#download TS 2018\n",
    "#download Panel 2018\n",
    "#download MSA MD map\n",
    "ts_url = \"https://s3.amazonaws.com/cfpb-hmda-public/prod/snapshot-data/2018/2018_public_ts_pipe.zip\"\n",
    "panel_url = \"https://s3.amazonaws.com/cfpb-hmda-public/prod/snapshot-data/2018/2018_public_panel_pipe.zip\"\n",
    "msa_md_url = \"https://s3.amazonaws.com/cfpb-hmda-public/prod/snapshot-data/2018/2018_public_msamd_pipe.zip\"\n",
    "\n",
    "ts_resp = requests.get(ts_url)\n",
    "with open(DATA_PATH+\"2018_public_ts_pipe.zip\", \"wb\") as infile:\n",
    "            infile.write(ts_resp.content)\n",
    "        \n",
    "panel_resp = requests.get(panel_url)\n",
    "with open(DATA_PATH+\"2018_public_panel_pipe.zip\", \"wb\") as infile:\n",
    "            infile.write(panel_resp.content)\n",
    "        \n",
    "msa_resp = requests.get(msa_md_url)\n",
    "with open(DATA_PATH+\"2018_public_msamd_pipe.zip\", \"wb\") as infile:\n",
    "            infile.write(msa_resp.content)\n",
    "#write files for use in analysis\n",
    "with zipfile.ZipFile(DATA_PATH+\"2018_public_ts_pipe.zip\", 'r') as zip_ref:\n",
    "    zip_ref.extractall(DATA_PATH)\n",
    "with zipfile.ZipFile(DATA_PATH+\"2018_public_panel_pipe.zip\", 'r') as zip_ref:\n",
    "    zip_ref.extractall(DATA_PATH)\n",
    "with zipfile.ZipFile(DATA_PATH+\"2018_public_msamd_pipe.zip\", 'r') as zip_ref:\n",
    "    zip_ref.extractall(DATA_PATH)\n",
    "\n",
    "#remove zip archives\n",
    "os.remove(DATA_PATH+\"2018_public_ts_pipe.zip\")\n",
    "os.remove(DATA_PATH+\"2018_public_panel_pipe.zip\")\n",
    "os.remove(DATA_PATH+\"2018_public_msamd_pipe.zip\")"
   ]
  },
  {
   "cell_type": "code",
   "execution_count": 3,
   "metadata": {},
   "outputs": [],
   "source": [
    "#get HMDA data for 2018 from DB API\n",
    "#available Data Browser endpoints: filers, aggrgation, csv\n",
    "def get_hmda_db_data(filter1=\"\", filter2=\"\", filter1_vals=[], filter2_vals=[], leis=[],\n",
    "                     geo_type=\"counties\", geo_list=[], years=[2018], file_name=\"hmda_data.csv\"):\n",
    "    \"\"\"\n",
    "    The Data Browser accepts 2 filters and enumerations for each.\n",
    "    Filter1: the first chosen filter (string)\n",
    "    Filter2: the second chosen filter (string)\n",
    "    Filter options: action_taken, loan_type, loan_purpose, lien_status,\n",
    "    construction_method, total_units, derived_ethnicity, derived_race,\n",
    "    derived_sex, derived_loan_product_type, derived_dwelling_category\n",
    "    year: the year of HMDA data (this is the activity year of transactions)\n",
    "    leis: a list of financial institution Legal Entity Identifiers (LEIs)\n",
    "    \n",
    "    Filter options can be found here: https://ffiec.cfpb.gov/documentation/2018/data-browser-filters/#action_taken\n",
    "    \n",
    "    geo_type: counties, state, msamds, nationwide. Note: only a single geo_type may be chosen. \n",
    "    All values in the geo_list must be of the chosen type\n",
    "    geo_list: states use letter codes, MSAMDs and counties use 5 digit FIPS codes\n",
    "    \n",
    "    Note: when selecting multiple geographies the data selection is expanded using OR logic \n",
    "    while non-geographic filters use AND operator logic, each additional filter reduces the data returned.\n",
    "    \"\"\"\n",
    "    #curl --location --request GET '\n",
    "    #\"https://ffiec.cfpb.gov/v2/data-browser-api/view/csv?states=CA,MD,DC&years=2018&actions_taken=5\"\n",
    "    #db_base_url = \"https://ffiec.cfpb.gov/data-browser/data/{year}?category={geo_type}\".format(year=year, geo_type=geo_type)\n",
    "\n",
    "    if geo_type == \"nationwide\":\n",
    "        if len(geo_list) > 0:\n",
    "            print(\"ignoring geo list, retrieving nationwide data\")\n",
    "            geo_list = []\n",
    "        db_base_url = \"https://hmda4.demo.cfpb.gov/v2/data-browser-api/view/nationwide/csv?\"\n",
    "    else:\n",
    "        db_base_url = \"https://ffiec.cfpb.gov/v2/data-browser-api/view/csv?\"\n",
    "        db_base_url = db_base_url + geo_type + \"=\" + \",\".join([str(geo) for geo in geo_list])\n",
    "    \n",
    "    db_base_url = db_base_url + \"&years\" + \"=\" + \",\".join([str(year) for year in years])\n",
    "    if len(leis) > 0:\n",
    "        db_base_url = db_base_url + \"&leis=\" + \",\".join([str(lei) for lei in leis])\n",
    "    if len(filter1_vals) > 0:\n",
    "        db_base_url = db_base_url + \"&\" + filter1 + \"=\" + \",\".join([str(val) for val in filter1_vals])\n",
    "    if len(filter2_vals) > 0:\n",
    "        db_base_url = db_base_url + \"&\" + filter2 + \"=\" + \",\".join([str(val) for val in filter2_vals])\n",
    "    print(db_base_url)\n",
    "    db_resp = requests.get(db_base_url)\n",
    "    \n",
    "    \n",
    "    return db_resp"
   ]
  },
  {
   "cell_type": "code",
   "execution_count": 4,
   "metadata": {},
   "outputs": [
    {
     "name": "stdout",
     "output_type": "stream",
     "text": [
      "3233 counties in FFIEC 2018 Census flat file\n"
     ]
    }
   ],
   "source": [
    "#load 2018 FFIEC Census data subset\n",
    "census_2018_df = pd.read_csv(CENSUS_DATA_PATH + \"census_2018_subset.txt\", sep=\"|\", dtype=object)\n",
    "census_2018_df[\"county_fips5\"] = census_2018_df.apply(lambda x: x.state_fips + x.county_fips, axis=1)\n",
    "print(len(census_2018_df.county_fips5.unique()), \"counties in FFIEC 2018 Census flat file\")"
   ]
  },
  {
   "cell_type": "code",
   "execution_count": 5,
   "metadata": {},
   "outputs": [],
   "source": [
    "state_files = [f[:-4] for f in listdir(DB_STATE_PATH) if isfile(join(DB_STATE_PATH, f))]\n",
    "for state in census_2018_df.state_fips.unique():\n",
    "    state_letter = state_codes_rev[state]\n",
    "    if state_letter not in state_files:\n",
    "        state_data = get_hmda_db_data(geo_type=\"states\", geo_list=[state_letter]).content\n",
    "        state_df = pd.read_csv(io.StringIO(state_data.decode(\"utf-8\")), dtype=object)\n",
    "        state_df.to_csv(DB_STATE_PATH+str(state_letter)+\".csv\", index=False)"
   ]
  },
  {
   "cell_type": "code",
   "execution_count": 9,
   "metadata": {},
   "outputs": [
    {
     "name": "stdout",
     "output_type": "stream",
     "text": [
      "0 remaining\n"
     ]
    }
   ],
   "source": [
    "#create list of existing files to not re-pull data\n",
    "county_files = [f[:-4] for f in listdir(DB_COUNTY_PATH) if isfile(join(DB_COUNTY_PATH, f))]\n",
    "#pull data for all counties of interest that are not present in DB_DATA_DIR\n",
    "\n",
    "counties_to_get = set(census_2018_df.county_fips5.unique()) - set(county_files)\n",
    "count = 0\n",
    "\n",
    "#print(\"checking for: \", county)\n",
    "\n",
    "print(len(counties_to_get), \"remaining\")\n",
    "for county in counties_to_get:\n",
    "    time.sleep(1)\n",
    "    try:\n",
    "        print(\"trying for:\", county)\n",
    "        county_data = get_hmda_db_data(geo_type=\"counties\", geo_list=[county])\n",
    "        county_df = pd.read_csv(io.StringIO(county_data.content.decode(\"utf-8\")),dtype=object)\n",
    "        county_df.to_csv(DB_COUNTY_PATH+str(county)+\".csv\", index=False)\n",
    "        \n",
    "    except:\n",
    "        print(\"boop\")\n",
    "        count +=1\n",
    "\n",
    "\n",
    "\n"
   ]
  },
  {
   "cell_type": "code",
   "execution_count": 7,
   "metadata": {},
   "outputs": [
    {
     "data": {
      "text/plain": [
       "337"
      ]
     },
     "execution_count": 7,
     "metadata": {},
     "output_type": "execute_result"
    }
   ],
   "source": [
    "count"
   ]
  },
  {
   "cell_type": "code",
   "execution_count": null,
   "metadata": {},
   "outputs": [],
   "source": []
  }
 ],
 "metadata": {
  "kernelspec": {
   "display_name": "Python 3",
   "language": "python",
   "name": "python3"
  },
  "language_info": {
   "codemirror_mode": {
    "name": "ipython",
    "version": 3
   },
   "file_extension": ".py",
   "mimetype": "text/x-python",
   "name": "python",
   "nbconvert_exporter": "python",
   "pygments_lexer": "ipython3",
   "version": "3.7.6"
  }
 },
 "nbformat": 4,
 "nbformat_minor": 4
}
