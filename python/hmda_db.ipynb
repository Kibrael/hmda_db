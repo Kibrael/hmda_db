{
 "cells": [
  {
   "cell_type": "code",
   "execution_count": null,
   "metadata": {},
   "outputs": [],
   "source": [
    "import io\n",
    "import os\n",
    "import pandas as pd\n",
    "import requests\n",
    "DATA_PATH = \"../data/\"\n",
    "DB_DATA_PATH = \"../data/hmda_data/\"\n",
    "if not os.path.exists(DB_DATA_PATH):\n",
    "    os.makedirs(DB_DATA_PATH)"
   ]
  },
  {
   "cell_type": "code",
   "execution_count": null,
   "metadata": {},
   "outputs": [],
   "source": []
  },
  {
   "cell_type": "code",
   "execution_count": null,
   "metadata": {},
   "outputs": [],
   "source": [
    "#get HMDA data for 2018 from DB API\n",
    "#base url: https://ffiec.cfpb.gov/data-browser\n",
    "#url with 1 county: https://ffiec.cfpb.gov/data-browser/data/2018?category=counties&items=30029\n",
    "#url with 1 county and 1 lei: https://ffiec.cfpb.gov/data-browser/data/2018?category=counties&items=30029&leis=549300XQVJ1XBNFA5536\n",
    "#above with single family and manufactured dwelling categories: https://ffiec.cfpb.gov/data-browser/data/2018?category=counties&items=30029&leis=549300XQVJ1XBNFA5536&dwelling_categories=Single%20Family%20(1-4%20Units)%3ASite-Built,Single%20Family%20(1-4%20Units)%3AManufactured\n",
    "#above with home purchase as purpose\n",
    "#available endpoints: filers, aggrgation, csv\n",
    "def get_hmda_db_data(filter1=\"\", filter2=\"\", filter1_vals=[], filter2_vals=[], leis=[],\n",
    "                     geo_type=\"counties\", geo_list=[], years=[2018], file_name=\"hmda_data.csv\"):\n",
    "    \"\"\"\n",
    "    The Data Browser accepts 2 filters and enumerations for each.\n",
    "    Filter1: the first chosen filter (string)\n",
    "    Filter2: the second chosen filter (string)\n",
    "    Filter options: action_taken, loan_type, loan_purpose, lien_status,\n",
    "    construction_method, total_units, derived_ethnicity, derived_race,\n",
    "    derived_sex, derived_loan_product_type, derived_dwelling_category\n",
    "    year: the year of HMDA data (this is the activity year of transactions)\n",
    "    leis: a list of financial institution Legal Entity Identifiers (LEIs)\n",
    "    \n",
    "    Filter options can be found here: https://ffiec.cfpb.gov/documentation/2018/data-browser-filters/#action_taken\n",
    "    \n",
    "    geo_type: counties, state, msamds, nationwide. Note: only a single geo_type may be chosen. \n",
    "    All values in the geo_list must be of the chosen type\n",
    "    geo_list: states use letter codes, MSAMDs and counties use 5 digit FIPS codes\n",
    "    \n",
    "    Note: when selecting multiple geographies the data selection is expanded using OR logic \n",
    "    while non-geographic filters use AND operator logic, each additional filter reduces the data returned.\n",
    "    \"\"\"\n",
    "    #\"https://ffiec.cfpb.gov/v2/data-browser-api/view/csv?states=CA,MD,DC&years=2018&actions_taken=5\"\n",
    "    #db_base_url = \"https://ffiec.cfpb.gov/data-browser/data/{year}?category={geo_type}\".format(year=year, geo_type=geo_type)\n",
    "    db_base_url = \"https://ffiec.cfpb.gov/v2/data-browser-api/view/csv?\"\n",
    "    if geo_type == \"nationwide\":\n",
    "        if len(geo_list) > 0:\n",
    "            print(\"ignoring geo list, retrieving nationwide data\")\n",
    "            geo_list = []\n",
    "    db_base_url = db_base_url + geo_type + \"=\" + \",\".join([str(geo) for geo in geo_list])\n",
    "    db_base_url = db_base_url + \"&years\" + \"=\" + \",\".join([str(year) for year in years])\n",
    "    if len(leis) > 0:\n",
    "        db_base_url = db_base_url + \"&leis=\" + \",\".join([str(lei) for lei in leis])\n",
    "    if len(filter1_vals) > 0:\n",
    "        db_base_url = db_base_url + \"&\" + filter1 + \"=\" + \",\".join([str(val) for val in filter1_vals])\n",
    "    if len(filter2_vals) > 0:\n",
    "        db_base_url = db_base_url + \"&\" + filter2 + \"=\" + \",\".join([str(val) for val in filter2_vals])\n",
    "    db_resp = requests.get(db_base_url)\n",
    "    print(db_base_url)\n",
    "    return db_resp"
   ]
  },
  {
   "cell_type": "code",
   "execution_count": null,
   "metadata": {},
   "outputs": [],
   "source": [
    "#data = get_hmda_db_data(geo_type=\"counties\", geo_list=[\"19125\", \"45017\"], filter1=\"action_taken\", \n",
    " #                       filter1_vals=[1])\n",
    "#data.text\n",
    "#load 2018 FFIEC Census data subset\n",
    "census_2018_df = pd.read_csv(DATA_PATH + \"census_2018_subset.txt\", sep=\"|\", dtype=object)\n",
    "census_2018_df[\"county_fips5\"] = census_2018_df.apply(lambda x: x.state_fips + x.county_fips, axis=1)\n",
    "census_2018_df"
   ]
  },
  {
   "cell_type": "code",
   "execution_count": null,
   "metadata": {},
   "outputs": [],
   "source": [
    "\n",
    "#pull data for all counties of interest\n",
    "for county in census_2018_df.county_fips5.to_list():\n",
    "    print(county)\n",
    "    county_data = get_hmda_db_data(geo_type=\"counties\", geo_list=[county]).content\n",
    "    \n",
    "    county_df = pd.read_csv(io.StringIO(county_data.decode('utf-8')))\n",
    "    county_df.to_csv(DB_DATA_PATH+str(county)+\".csv\", index=False)\n",
    "    \n",
    "#create aggregates\n",
    "#map aggregates"
   ]
  }
 ],
 "metadata": {
  "kernelspec": {
   "display_name": "Python 3",
   "language": "python",
   "name": "python3"
  },
  "language_info": {
   "codemirror_mode": {
    "name": "ipython",
    "version": 3
   },
   "file_extension": ".py",
   "mimetype": "text/x-python",
   "name": "python",
   "nbconvert_exporter": "python",
   "pygments_lexer": "ipython3",
   "version": "3.7.6"
  }
 },
 "nbformat": 4,
 "nbformat_minor": 4
}
