{
 "cells": [
  {
   "cell_type": "code",
   "execution_count": 1,
   "metadata": {},
   "outputs": [],
   "source": [
    "import pandas as pd\n",
    "import requests"
   ]
  },
  {
   "cell_type": "code",
   "execution_count": null,
   "metadata": {},
   "outputs": [],
   "source": []
  },
  {
   "cell_type": "code",
   "execution_count": 47,
   "metadata": {},
   "outputs": [],
   "source": [
    "#get HMDA data for 2018 from DB API\n",
    "#base url: https://ffiec.cfpb.gov/data-browser\n",
    "#url with 1 county: https://ffiec.cfpb.gov/data-browser/data/2018?category=counties&items=30029\n",
    "#url with 1 county and 1 lei: https://ffiec.cfpb.gov/data-browser/data/2018?category=counties&items=30029&leis=549300XQVJ1XBNFA5536\n",
    "#above with single family and manufactured dwelling categories: https://ffiec.cfpb.gov/data-browser/data/2018?category=counties&items=30029&leis=549300XQVJ1XBNFA5536&dwelling_categories=Single%20Family%20(1-4%20Units)%3ASite-Built,Single%20Family%20(1-4%20Units)%3AManufactured\n",
    "#above with home purchase as purpose\n",
    "\n",
    "#pull data for all counties of interest\n",
    "#create aggregates\n",
    "#map aggregates\n",
    "def get_hmda_db_data(filter1=\"\", filter2=\"\", filter1_vals=[], filter2_vals=[], leis=[],\n",
    "                     geo_type=\"counties\", geo_list=[], year=2018, file_name=\"hmda_data.csv\"):\n",
    "    \"\"\"\n",
    "    The Data Browser accepts 2 filters and enumerations for each.\n",
    "    Filter1: the first chosen filter (string)\n",
    "    Filter2: the second chosen filter (string)\n",
    "    Filter options: action_taken, loan_type, loan_purpose, lien_status,\n",
    "    construction_method, total_units, derived_ethnicity, derived_race,\n",
    "    derived_sex, derived_loan_product_type, derived_dwelling_category\n",
    "    year: the year of HMDA data (this is the activity year of transactions)\n",
    "    leis: a list of financial institution Legal Entity Identifiers (LEIs)\n",
    "    \n",
    "    Filter options can be found here: https://ffiec.cfpb.gov/documentation/2018/data-browser-filters/#action_taken\n",
    "    \n",
    "    geo_type: counties, state, msamds, nationwide. Note: only a single geo_type may be chosen. \n",
    "    All values in the geo_list must be of the chosen type\n",
    "    geo_list: a list of numeric codes for the chosen geo_type\n",
    "    \n",
    "    Note: when selecting multiple geographies the data selection is expanded using OR logic \n",
    "    while non-geographic filters use AND operator logic, each additional filter reduces the data returned.\n",
    "    \"\"\"\n",
    "    db_base_url = \"https://ffiec.cfpb.gov/data-browser/data/{year}?category={geo_type}\".format(year=year, geo_type=geo_type)\n",
    "\n",
    "    if geo_type == \"nationwide\":\n",
    "        if len(geo_list) > 0:\n",
    "            print(\"ignoring geo list, retrieving nationwide data\")\n",
    "        if len(leis) > 0:\n",
    "            db_base_url = db_base_url + \"&leis=\" + \",\".join([str(lei) for lei in leis])\n",
    "        if len(filter1_vals) > 0:\n",
    "            db_base_url = db_base_url + \"&\" + filter1 + \",\".join([str(val) for val in filter1_vals])\n",
    "        if len(filter2_vals) > 0:\n",
    "            db_base_url = db_base_url + \"&\" + filter1 + \",\".join([str(val) for val in filter2_vals])\n",
    "        db_resp = requests.get(db_base_url)\n",
    "        \n",
    "    else:\n",
    "        db_base_url = db_base_url + \"&items=\" + \",\".join([str(geo) for geo in geo_list])\n",
    "        if len(leis) > 0:\n",
    "            db_base_url = db_base_url + \"&leis=\" + \",\".join([str(lei) for lei in leis])\n",
    "        if len(filter1_vals) > 0:\n",
    "            db_base_url = db_base_url + \"&\" + filter1 + \"=\" + \",\".join([str(val) for val in filter1_vals])\n",
    "        if len(filter2_vals) > 0:\n",
    "            db_base_url = db_base_url + \"&\" + filter1 + \",\".join([str(val) for val in filter2_vals])\n",
    "        db_resp = requests.get(db_base_url)      \n",
    "    print(db_base_url)\n",
    "    return db_resp"
   ]
  },
  {
   "cell_type": "code",
   "execution_count": 50,
   "metadata": {},
   "outputs": [
    {
     "name": "stdout",
     "output_type": "stream",
     "text": [
      "https://ffiec.cfpb.gov/data-browser/data/2018?category=msamds&items=11500&action_taken=1\n"
     ]
    },
    {
     "data": {
      "text/plain": [
       "'<!doctype html><html lang=\"en\"><head><meta charset=\"utf-8\"><meta name=\"viewport\" content=\"width=device-width,initial-scale=1,shrink-to-fit=no\"><meta name=\"theme-color\" content=\"#000000\"><link rel=\"shortcut icon\" href=\"/favicon.ico\"><link rel=\"apple-touch-icon-precomposed\" href=\"/favicon.ico\"><title>HMDA - Home Mortgage Disclosure Act</title><script>!function(e,t,a,n,g){e[n]=e[n]||[],e[n].push({\"gtm.start\":(new Date).getTime(),event:\"gtm.js\"});var m=t.getElementsByTagName(a)[0],r=t.createElement(a);r.async=!0,r.src=\"https://www.googletagmanager.com/gtm.js?id=GTM-KDGB99D\",m.parentNode.insertBefore(r,m)}(window,document,\"script\",\"dataLayer\")</script><link href=\"/static/css/main.e4b9f0ba.chunk.css\" rel=\"stylesheet\"></head><body><noscript><iframe src=\"//www.googletagmanager.com/ns.html?id=GTM-KDGB99D\" height=\"0\" width=\"0\" style=\"display:none;visibility:hidden\"></iframe></noscript><noscript>You need to enable JavaScript to run this app.</noscript><div id=\"root\"></div><script>!function(i){function e(e){for(var t,r,n=e[0],o=e[1],a=e[2],c=0,u=[];c<n.length;c++)r=n[c],Object.prototype.hasOwnProperty.call(s,r)&&s[r]&&u.push(s[r][0]),s[r]=0;for(t in o)Object.prototype.hasOwnProperty.call(o,t)&&(i[t]=o[t]);for(h&&h(e);u.length;)u.shift()();return l.push.apply(l,a||[]),f()}function f(){for(var e,t=0;t<l.length;t++){for(var r=l[t],n=!0,o=1;o<r.length;o++){var a=r[o];0!==s[a]&&(n=!1)}n&&(l.splice(t--,1),e=p(p.s=r[0]))}return e}var r={},d={3:0},s={3:0},l=[];function p(e){if(r[e])return r[e].exports;var t=r[e]={i:e,l:!1,exports:{}};return i[e].call(t.exports,t,t.exports,p),t.l=!0,t.exports}p.e=function(l){var e=[];d[l]?e.push(d[l]):0!==d[l]&&{5:1,7:1,8:1,9:1,10:1,11:1,13:1}[l]&&e.push(d[l]=new Promise(function(e,n){for(var t=\"static/css/\"+({}[l]||l)+\".\"+{0:\"31d6cfe0\",1:\"31d6cfe0\",5:\"01cec653\",6:\"31d6cfe0\",7:\"98edee27\",8:\"84ec56f5\",9:\"4cd18f9f\",10:\"764ccc25\",11:\"7453d3a8\",12:\"31d6cfe0\",13:\"9a9d512b\"}[l]+\".chunk.css\",o=p.p+t,r=document.getElementsByTagName(\"link\"),a=0;a<r.length;a++){var c=(i=r[a]).getAttribute(\"data-href\")||i.getAttribute(\"href\");if(\"stylesheet\"===i.rel&&(c===t||c===o))return e()}var u=document.getElementsByTagName(\"style\");for(a=0;a<u.length;a++){var i;if((c=(i=u[a]).getAttribute(\"data-href\"))===t||c===o)return e()}var f=document.createElement(\"link\");f.rel=\"stylesheet\",f.type=\"text/css\",f.onload=e,f.onerror=function(e){var t=e&&e.target&&e.target.src||o,r=new Error(\"Loading CSS chunk \"+l+\" failed.\\\\n(\"+t+\")\");r.code=\"CSS_CHUNK_LOAD_FAILED\",r.request=t,delete d[l],f.parentNode.removeChild(f),n(r)},f.href=o,document.getElementsByTagName(\"head\")[0].appendChild(f)}).then(function(){d[l]=0}));var r=s[l];if(0!==r)if(r)e.push(r[2]);else{var t=new Promise(function(e,t){r=s[l]=[e,t]});e.push(r[2]=t);var n,o=document.createElement(\"script\");o.charset=\"utf-8\",o.timeout=120,p.nc&&o.setAttribute(\"nonce\",p.nc),o.src=p.p+\"static/js/\"+({}[l]||l)+\".\"+{0:\"96fb4b36\",1:\"7e457383\",5:\"cb6a8b08\",6:\"72d327d3\",7:\"b6e4ac27\",8:\"d1b2be20\",9:\"cf14d367\",10:\"209ddef8\",11:\"ec4fca2c\",12:\"02037cfd\",13:\"6c3f55dd\"}[l]+\".chunk.js\";var a=new Error;n=function(e){o.onerror=o.onload=null,clearTimeout(c);var t=s[l];if(0!==t){if(t){var r=e&&(\"load\"===e.type?\"missing\":e.type),n=e&&e.target&&e.target.src;a.message=\"Loading chunk \"+l+\" failed.\\\\n(\"+r+\": \"+n+\")\",a.name=\"ChunkLoadError\",a.type=r,a.request=n,t[1](a)}s[l]=void 0}};var c=setTimeout(function(){n({type:\"timeout\",target:o})},12e4);o.onerror=o.onload=n,document.head.appendChild(o)}return Promise.all(e)},p.m=i,p.c=r,p.d=function(e,t,r){p.o(e,t)||Object.defineProperty(e,t,{enumerable:!0,get:r})},p.r=function(e){\"undefined\"!=typeof Symbol&&Symbol.toStringTag&&Object.defineProperty(e,Symbol.toStringTag,{value:\"Module\"}),Object.defineProperty(e,\"__esModule\",{value:!0})},p.t=function(t,e){if(1&e&&(t=p(t)),8&e)return t;if(4&e&&\"object\"==typeof t&&t&&t.__esModule)return t;var r=Object.create(null);if(p.r(r),Object.defineProperty(r,\"default\",{enumerable:!0,value:t}),2&e&&\"string\"!=typeof t)for(var n in t)p.d(r,n,function(e){return t[e]}.bind(null,n));return r},p.n=function(e){var t=e&&e.__esModule?function(){return e.default}:function(){return e};return p.d(t,\"a\",t),t},p.o=function(e,t){return Object.prototype.hasOwnProperty.call(e,t)},p.p=\"/\",p.oe=function(e){throw console.error(e),e};var t=this[\"webpackJsonphmda-frontend\"]=this[\"webpackJsonphmda-frontend\"]||[],n=t.push.bind(t);t.push=e,t=t.slice();for(var o=0;o<t.length;o++)e(t[o]);var h=n;f()}([])</script><script src=\"/static/js/4.00c8fde4.chunk.js\"></script><script src=\"/static/js/main.079d328a.chunk.js\"></script></body></html>'"
      ]
     },
     "execution_count": 50,
     "metadata": {},
     "output_type": "execute_result"
    }
   ],
   "source": [
    "data = get_hmda_db_data(geo_type=\"msamds\", geo_list=[\"11500\"], filter1=\"action_taken\", filter1_vals=[1])\n",
    "data.text\n"
   ]
  },
  {
   "cell_type": "code",
   "execution_count": null,
   "metadata": {},
   "outputs": [],
   "source": [
    "\n",
    "print(\"saving data\"\n",
    "        with open(DATA_PATH+file_name, \"wb\") as infile:\n",
    "            infile.write(data.content)"
   ]
  }
 ],
 "metadata": {
  "kernelspec": {
   "display_name": "Python 3",
   "language": "python",
   "name": "python3"
  },
  "language_info": {
   "codemirror_mode": {
    "name": "ipython",
    "version": 3
   },
   "file_extension": ".py",
   "mimetype": "text/x-python",
   "name": "python",
   "nbconvert_exporter": "python",
   "pygments_lexer": "ipython3",
   "version": "3.7.6"
  }
 },
 "nbformat": 4,
 "nbformat_minor": 4
}
