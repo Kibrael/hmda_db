{
 "cells": [
  {
   "cell_type": "code",
   "execution_count": 21,
   "metadata": {},
   "outputs": [],
   "source": [
    "\n",
    "import os\n",
    "from os import path\n",
    "from os import listdir\n",
    "from os.path import isfile, join\n",
    "import shutil\n",
    "\n",
    "import pandas as pd\n",
    "import requests\n",
    "import zipfile\n",
    "DATA_PATH = \"../data/\"\n",
    "if not os.path.exists(DATA_PATH):\n",
    "    os.makedirs(DATA_PATH)"
   ]
  },
  {
   "cell_type": "code",
   "execution_count": null,
   "metadata": {},
   "outputs": [],
   "source": [
    "\n",
    "def get_ffiec_census_file(years=[2019]):\n",
    "    \"\"\"\n",
    "    Retrieves Census flat file data from the FFIEC website.\n",
    "    Each file is 1 year of data intended to be used with HMDA data.\n",
    "    Files are available from 1990-2019. New files are typically published in the fall.\n",
    "    \n",
    "    years: a list of which years of data to download\n",
    "    \"\"\"\n",
    "\n",
    "    base_url = \"https://www.ffiec.gov/Census/Census_Flat_Files/\"\n",
    "    for year in years:\n",
    "        local_file_name = \"ffiec_census_{year}.zip\".format(year=year)\n",
    "        print(\"getting data for {year}\".format(year=year))\n",
    "        if year >= 2008:\n",
    "            census_resp = requests.get(base_url + \"CENSUS{year}.zip\".format(year=year))\n",
    "        else:\n",
    "            census_resp = requests.get(base_url + \"Zip%20Files/{year}.zip\".format(year=year))\n",
    "        print(\"saving data for {year} as {name}\".format(year=year, name=local_file_name))\n",
    "        with open(\"../data/\"+local_file_name, \"wb\") as infile:\n",
    "            infile.write(census_resp.content)\n",
    "year_list = range(1990,2020)\n",
    "get_ffiec_census_file(years=year_list)"
   ]
  },
  {
   "cell_type": "code",
   "execution_count": 17,
   "metadata": {},
   "outputs": [],
   "source": [
    "##get all files in data dir with .zip extension\n",
    "census_files = [f for f in listdir(DATA_PATH) if isfile(join(DATA_PATH, f))]\n",
    "census_files = [f for f in census_files if f[-4:]==\".zip\"]\n",
    "#unzip all census files\n",
    "for file in census_files:\n",
    "    with zipfile.ZipFile(DATA_PATH+file, 'r') as zip_ref:\n",
    "        zip_ref.extractall(DATA_PATH)\n",
    "#Unfortunately the FFIEC zip files prior to 2008 unzip into individual folders and the documentation prio to 2016 uses .doc format.\n",
    "\n"
   ]
  },
  {
   "cell_type": "code",
   "execution_count": 30,
   "metadata": {},
   "outputs": [],
   "source": [
    "#move all census files from their sub folders to the main folder\n",
    "#extract county list for 2004-2019 (include other relevant census data)\n",
    "#MSA/MD, state, demographic, income, housing\n",
    "directories = [f for f in listdir(DATA_PATH) if not isfile(join(DATA_PATH, f))]\n",
    "for folder in directories:\n",
    "    files = [f for f in listdir(DATA_PATH + folder) if isfile(join(DATA_PATH + folder, f))]\n",
    "    for file in files:\n",
    "        print(file)\n",
    "        shutil.move(DATA_PATH + folder + \"/\" + file, DATA_PATH)\n",
    "    os.rmdir(DATA_PATH + folder)\n",
    "#get HMDA data for 2018 from DB API\n",
    "#base url: https://ffiec.cfpb.gov/data-browser\n",
    "#url with 1 county: https://ffiec.cfpb.gov/data-browser/data/2018?category=counties&items=30029\n",
    "#url with 1 county and 1 lei: https://ffiec.cfpb.gov/data-browser/data/2018?category=counties&items=30029&leis=549300XQVJ1XBNFA5536\n",
    "#above with single family and manufactured dwelling categories: https://ffiec.cfpb.gov/data-browser/data/2018?category=counties&items=30029&leis=549300XQVJ1XBNFA5536&dwelling_categories=Single%20Family%20(1-4%20Units)%3ASite-Built,Single%20Family%20(1-4%20Units)%3AManufactured\n",
    "#above with home purchase as purpose\n",
    "\n",
    "#pull data for all counties of interest\n",
    "#create aggregates\n",
    "#map aggregates\n",
    "\n"
   ]
  },
  {
   "cell_type": "code",
   "execution_count": null,
   "metadata": {},
   "outputs": [],
   "source": []
  },
  {
   "cell_type": "code",
   "execution_count": null,
   "metadata": {},
   "outputs": [],
   "source": []
  }
 ],
 "metadata": {
  "kernelspec": {
   "display_name": "Python 3",
   "language": "python",
   "name": "python3"
  },
  "language_info": {
   "codemirror_mode": {
    "name": "ipython",
    "version": 3
   },
   "file_extension": ".py",
   "mimetype": "text/x-python",
   "name": "python",
   "nbconvert_exporter": "python",
   "pygments_lexer": "ipython3",
   "version": "3.7.6"
  }
 },
 "nbformat": 4,
 "nbformat_minor": 4
}
